{
  "nbformat": 4,
  "nbformat_minor": 0,
  "metadata": {
    "colab": {
      "provenance": [],
      "authorship_tag": "ABX9TyPt+2vZ8g1NJaplEKRjQKX6",
      "include_colab_link": true
    },
    "kernelspec": {
      "name": "python3",
      "display_name": "Python 3"
    },
    "language_info": {
      "name": "python"
    }
  },
  "cells": [
    {
      "cell_type": "markdown",
      "metadata": {
        "id": "view-in-github",
        "colab_type": "text"
      },
      "source": [
        "<a href=\"https://colab.research.google.com/github/kjm784512/Colab/blob/main/%ED%95%A8%EC%88%98.ipynb\" target=\"_parent\"><img src=\"https://colab.research.google.com/assets/colab-badge.svg\" alt=\"Open In Colab\"/></a>"
      ]
    },
    {
      "cell_type": "code",
      "execution_count": 20,
      "metadata": {
        "colab": {
          "base_uri": "https://localhost:8080/"
        },
        "id": "sc7gkF2PuuMc",
        "outputId": "27f75532-bf66-47b3-ef4c-3048feb4d537"
      },
      "outputs": [
        {
          "output_type": "stream",
          "name": "stdout",
          "text": [
            "나는박서준입니다\n",
            "나는999999999999살입니다\n",
            "싸인해드릴까요?\n"
          ]
        }
      ],
      "source": [
        "#파이썬에서 함수는 def로 선언함. => def 이름():\n",
        "#def printMyName\n",
        "def print_my_name(name,age):        #name, age => 매개변수 (파라미터, 인자)\n",
        "  #자동으로 들여쓰기 시작\n",
        "  #print('나는 '+name+'입니다')\n",
        "  print(f'나는{name}입니다') #f 안에 별수를 바로 사용할 때 중괄호로 감싸면\n",
        "  print(f'나는{age}살입니다')\n",
        "  hello()\n",
        "#print_my_name()은 불가 => 대신 ()안에 정보를 입력해야함.\n",
        "#print_my_name('kin')사용\n",
        "\n",
        "def hello():\n",
        "  print('싸인해드릴까요?')\n",
        "\n",
        "\n",
        "\n",
        "#def pinrt_your_name():\n",
        "#  print('나는 차은우를 닮은 김지민입니다')\n",
        "#  print('사진찍지마세요!!')\n",
        "\n",
        "print_my_name(name='박서준',age=999999999999)   #매개변 수의 이름을 지정하면 순서가 상관없음\n",
        "\n",
        "\n",
        "#for i in range(10):\n",
        " # print_myMname('박서준')"
      ]
    },
    {
      "cell_type": "code",
      "source": [
        "#더하기 가능 sum\\\n",
        "def sum(a,b):\n",
        "  result = a+b\n",
        "  print(result)\n",
        "  return result\n",
        "\n",
        "\n",
        "\n",
        "res = sum(1,2)\n",
        "print(res)"
      ],
      "metadata": {
        "colab": {
          "base_uri": "https://localhost:8080/"
        },
        "id": "IPaBSA1w79R4",
        "outputId": "a05a8977-5511-46ed-cab9-1334074a11a2"
      },
      "execution_count": 24,
      "outputs": [
        {
          "output_type": "stream",
          "name": "stdout",
          "text": [
            "3\n",
            "3\n"
          ]
        }
      ]
    },
    {
      "cell_type": "code",
      "source": [
        "#더하기 가능 sum\\\n",
        "def sum(a,b):\n",
        "  return a+b # 결괴를 리턴하는 거지 출력문같은걸 리턴하지 않음\n",
        "\n",
        "\n",
        "\n",
        "print(sum(1,2))"
      ],
      "metadata": {
        "colab": {
          "base_uri": "https://localhost:8080/"
        },
        "id": "GDXwU1JT-dJp",
        "outputId": "c6337128-1d7c-4b38-cf4d-78fb91753c1a"
      },
      "execution_count": 26,
      "outputs": [
        {
          "output_type": "stream",
          "name": "stdout",
          "text": [
            "3\n"
          ]
        }
      ]
    }
  ]
}