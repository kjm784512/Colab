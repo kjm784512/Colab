{
  "nbformat": 4,
  "nbformat_minor": 0,
  "metadata": {
    "colab": {
      "provenance": [],
      "authorship_tag": "ABX9TyPVPumiK2nhXRytm7h0wqq1",
      "include_colab_link": true
    },
    "kernelspec": {
      "name": "python3",
      "display_name": "Python 3"
    },
    "language_info": {
      "name": "python"
    }
  },
  "cells": [
    {
      "cell_type": "markdown",
      "metadata": {
        "id": "view-in-github",
        "colab_type": "text"
      },
      "source": [
        "<a href=\"https://colab.research.google.com/github/kjm784512/Colab/blob/main/2_%ED%95%A8%EC%88%98.ipynb\" target=\"_parent\"><img src=\"https://colab.research.google.com/assets/colab-badge.svg\" alt=\"Open In Colab\"/></a>"
      ]
    },
    {
      "cell_type": "code",
      "execution_count": null,
      "metadata": {
        "colab": {
          "base_uri": "https://localhost:8080/"
        },
        "id": "sc7gkF2PuuMc",
        "outputId": "27f75532-bf66-47b3-ef4c-3048feb4d537"
      },
      "outputs": [
        {
          "output_type": "stream",
          "name": "stdout",
          "text": [
            "나는박서준입니다\n",
            "나는999999999999살입니다\n",
            "싸인해드릴까요?\n"
          ]
        }
      ],
      "source": [
        "#파이썬에서 함수는 def로 선언함. => def 이름():\n",
        "#def printMyName\n",
        "def print_my_name(name,age):        #name, age => 매개변수 (파라미터, 인자)\n",
        "  #자동으로 들여쓰기 시작\n",
        "  #print('나는 '+name+'입니다')\n",
        "  print(f'나는{name}입니다') #f 안에 별수를 바로 사용할 때 중괄호로 감싸면\n",
        "  print(f'나는{age}살입니다')\n",
        "  hello()\n",
        "#print_my_name()은 불가 => 대신 ()안에 정보를 입력해야함.\n",
        "#print_my_name('kin')사용\n",
        "\n",
        "def hello():\n",
        "  print('싸인해드릴까요?')\n",
        "\n",
        "\n",
        "\n",
        "#def pinrt_your_name():\n",
        "#  print('나는 차은우를 닮은 김지민입니다')\n",
        "#  print('사진찍지마세요!!')\n",
        "\n",
        "print_my_name(name='박서준',age=999999999999)   #매개변 수의 이름을 지정하면 순서가 상관없음\n",
        "\n",
        "\n",
        "#for i in range(10):\n",
        " # print_myMname('박서준')"
      ]
    },
    {
      "cell_type": "code",
      "source": [
        "#더하기 가능 sum\\\n",
        "def sum(a,b):\n",
        "  result = a+b\n",
        "  print(result)\n",
        "  return result\n",
        "\n",
        "\n",
        "\n",
        "res = sum(1,2)\n",
        "print(res)"
      ],
      "metadata": {
        "colab": {
          "base_uri": "https://localhost:8080/"
        },
        "id": "IPaBSA1w79R4",
        "outputId": "a05a8977-5511-46ed-cab9-1334074a11a2"
      },
      "execution_count": null,
      "outputs": [
        {
          "output_type": "stream",
          "name": "stdout",
          "text": [
            "3\n",
            "3\n"
          ]
        }
      ]
    },
    {
      "cell_type": "code",
      "source": [
        "#더하기 가능 sum\\\n",
        "def sum(a,b):\n",
        "  return a+b # 결괴를 리턴하는 거지 출력문같은걸 리턴하지 않음\n",
        "\n",
        "\n",
        "\n",
        "print(sum(1,2))"
      ],
      "metadata": {
        "colab": {
          "base_uri": "https://localhost:8080/"
        },
        "id": "GDXwU1JT-dJp",
        "outputId": "a64039d7-4fc6-4af1-e821-bd4f730cb1e8"
      },
      "execution_count": null,
      "outputs": [
        {
          "output_type": "stream",
          "name": "stdout",
          "text": [
            "3\n"
          ]
        }
      ]
    },
    {
      "cell_type": "code",
      "source": [
        "#사용자가 입력을 1,2,3,4,6,7 의 형태로(숫자와 수미표만 있음. 공백없음)\n",
        "#이중 최대 숫자를 찾는 프로그램을 만들자 대신,모든숫자는 0이상 100이하\n",
        "num = '1,2,3,4,5,6'\n",
        "num_array = num.split(',') # array 배열\n",
        "\n",
        "num_int = list(map(int, num_array))\n",
        "print(num_int[0]+1)   #1+1 = 2?"
      ],
      "metadata": {
        "colab": {
          "base_uri": "https://localhost:8080/"
        },
        "id": "SInt-iqC-uUW",
        "outputId": "94809e60-3e9a-4b9a-bb05-e195abd8c326"
      },
      "execution_count": null,
      "outputs": [
        {
          "output_type": "stream",
          "name": "stdout",
          "text": [
            "4\n"
          ]
        }
      ]
    },
    {
      "cell_type": "code",
      "source": [
        "#최대값 구하기\n",
        "num = [1,23,42,42,34,64,86,67,3]\n",
        "min_max =-1\n",
        "#num에 있는 값을 처음부터 마지막 까지 반복하면서 검사. 만약 크다면 최대값 변경\n",
        "for i in range(0,len(num)):\n",
        "  if num[i] > min_max: #최대값 발견\n",
        "    min_max = num[i]\n",
        "\n",
        "\n",
        "print(min_max)\n",
        "\n",
        "\n",
        "\n",
        "\n",
        "\n"
      ],
      "metadata": {
        "colab": {
          "base_uri": "https://localhost:8080/"
        },
        "id": "rekpKkPJC2u4",
        "outputId": "4da30b5d-791d-431c-91d2-169f400527ac"
      },
      "execution_count": null,
      "outputs": [
        {
          "output_type": "stream",
          "name": "stdout",
          "text": [
            "86\n"
          ]
        }
      ]
    },
    {
      "cell_type": "code",
      "source": [
        "#사용자가 입력을 1,10,3,4,5,6,7,6 의 형태로 (숫자와 쉼표만 있음. 공백없음)\n",
        "#이중 최대 숫자를 찾는 프로그램을 만들자 대신, 모든숫자는 0이상 100이하)\n",
        "\n",
        "#문자열을 숫자배열로 만들기\n",
        "def str_to_num(str, spliter ):  #str = '1,2,3,4'\n",
        "    num = list(map(int, str.split(spliter)))\n",
        "    return num\n",
        "\n",
        "def find_min_max(num_arr, min_or_max):  #[1,2,3,4,5]숫자 배열을 주면 그 중\n",
        "    if min_or_max == 'max': #최대값 구하기 모드\n",
        "        min_max = -1 \n",
        "    else:\n",
        "        min_max = 101  #최소값 구하기 모드\n",
        "\n",
        "    for i in num_arr:\n",
        "        if (min_or_max == 'max' and i > min_max) or (min_or_max != 'max' and i < min_max):\n",
        "            min_max = i\n",
        "        \n",
        "        # if min_or_max == 'max':  #최대값 모드\n",
        "        #     if i > min_max:\n",
        "        #         min_max = i\n",
        "        # else #최소값 모드\n",
        "        #     if i < min_max:\n",
        "        #         min_max = i\n",
        "\n",
        "    return min_max\n",
        "\n",
        "\n",
        "str = input()   #1,2,3,4,5\n",
        "num = str_to_num(str, ',')\n",
        "min_max = find_min_max(num, 'max')\n",
        "\n",
        "print(min_max)"
      ],
      "metadata": {
        "colab": {
          "base_uri": "https://localhost:8080/"
        },
        "id": "bSJDReJPRXi9",
        "outputId": "8b7a79c7-365a-43f3-8f51-d8bdbdfdbc21"
      },
      "execution_count": null,
      "outputs": [
        {
          "output_type": "stream",
          "name": "stdout",
          "text": [
            "45,453,4352,8465,84654,48324\n",
            "84654\n"
          ]
        }
      ]
    },
    {
      "cell_type": "code",
      "source": [
        "dna = 'ATCGGCTA'\n",
        "for k  in range(len(dna)):\n",
        "    # print(dna[k])   A를 가져옴\n",
        "    if dna[k] == 'A':\n",
        "      print('U',end = '')\n",
        "    elif dna[k] == 'T':\n",
        "        print('A')\n",
        "    elif dna[k] == 'c':\n",
        "      print('G')\n",
        "    elif dna[k] == 'G':\n",
        "      print('C')\n"
      ],
      "metadata": {
        "colab": {
          "base_uri": "https://localhost:8080/"
        },
        "id": "TgpiYIiAkfoz",
        "outputId": "48067187-f4c6-488d-b5ff-69bdbc7c0b8d"
      },
      "execution_count": 13,
      "outputs": [
        {
          "output_type": "stream",
          "name": "stdout",
          "text": [
            "UA\n",
            "C\n",
            "C\n",
            "A\n",
            "U"
          ]
        }
      ]
    },
    {
      "cell_type": "code",
      "source": [
        "#dna위치를 찾아서 rna위치를 반환\n",
        "\n",
        "def trans(pos):\n",
        "    rna_src = 'UAGC'\n",
        "    return rna_src[pos]\n",
        "\n",
        "dna = 'ATCGGCTA'\n",
        "\n",
        "for k in range(len(dna)):\n",
        "    search_pos = dna_src.find(dna[k])\n",
        "    print(trans(search_pos),end='')\n",
        "dna_src = 'ATCG'\n",
        "rna_src = 'UAGC'\n",
        "pos = dna_src.find('A')\n",
        "print(rna_src[pos])"
      ],
      "metadata": {
        "colab": {
          "base_uri": "https://localhost:8080/"
        },
        "id": "I9UBxfsRpd2k",
        "outputId": "3bd91500-ef56-40a1-f3a1-4b7c3512f01e"
      },
      "execution_count": 17,
      "outputs": [
        {
          "output_type": "stream",
          "name": "stdout",
          "text": [
            "UAGCCGAUU\n"
          ]
        }
      ]
    }
  ]
}