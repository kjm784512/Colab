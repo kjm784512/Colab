{
  "nbformat": 4,
  "nbformat_minor": 0,
  "metadata": {
    "colab": {
      "provenance": [],
      "authorship_tag": "ABX9TyPgA9VNqrTF9axZBRFIZFSK",
      "include_colab_link": true
    },
    "kernelspec": {
      "name": "python3",
      "display_name": "Python 3"
    },
    "language_info": {
      "name": "python"
    }
  },
  "cells": [
    {
      "cell_type": "markdown",
      "metadata": {
        "id": "view-in-github",
        "colab_type": "text"
      },
      "source": [
        "<a href=\"https://colab.research.google.com/github/kjm784512/Colab/blob/main/1_%ED%8C%8C%EC%9D%BC%EC%8D%AC_%EA%B8%B0%EC%B4%88.ipynb\" target=\"_parent\"><img src=\"https://colab.research.google.com/assets/colab-badge.svg\" alt=\"Open In Colab\"/></a>"
      ]
    },
    {
      "cell_type": "code",
      "execution_count": null,
      "metadata": {
        "colab": {
          "base_uri": "https://localhost:8080/"
        },
        "id": "-c8KgAKNr93v",
        "outputId": "f19353b4-43dc-48d2-ad3a-62e0f5095ca8"
      },
      "outputs": [
        {
          "output_type": "stream",
          "name": "stdout",
          "text": [
            "my first python code\n"
          ]
        }
      ],
      "source": [
        "print('my first python code')"
      ]
    },
    {
      "cell_type": "markdown",
      "source": [
        "파이썬은 띄어쓰기 조심! print문장은 회면에 출력해주는 명령어"
      ],
      "metadata": {
        "id": "SJVcPX0yt9w4"
      }
    },
    {
      "cell_type": "code",
      "source": [
        "name = '김지민'\n",
        "age = '17'\n",
        "age=age\n",
        "\n",
        "print('안녕하세요 난 ' +name + age)"
      ],
      "metadata": {
        "colab": {
          "base_uri": "https://localhost:8080/"
        },
        "id": "di1biv0btZdK",
        "outputId": "d74a3b12-6998-49a3-9467-446ee2802245"
      },
      "execution_count": null,
      "outputs": [
        {
          "output_type": "stream",
          "name": "stdout",
          "text": [
            "안녕하세요 난 김지민17\n"
          ]
        }
      ]
    },
    {
      "cell_type": "code",
      "source": [
        "a=5\n",
        "b=3\n",
        "print(a%b)"
      ],
      "metadata": {
        "colab": {
          "base_uri": "https://localhost:8080/"
        },
        "id": "n7rbEILv_4-X",
        "outputId": "66b49282-60c5-4766-d0fc-c8ca33ebbf6d"
      },
      "execution_count": null,
      "outputs": [
        {
          "output_type": "stream",
          "name": "stdout",
          "text": [
            "2\n"
          ]
        }
      ]
    },
    {
      "cell_type": "code",
      "source": [
        "a=5\n",
        "b=3\n",
        "print(a==b)"
      ],
      "metadata": {
        "colab": {
          "base_uri": "https://localhost:8080/"
        },
        "id": "cB3KIWbgAjEt",
        "outputId": "7355e206-a677-4b75-cd51-d95b1b25813f"
      },
      "execution_count": null,
      "outputs": [
        {
          "output_type": "stream",
          "name": "stdout",
          "text": [
            "False\n"
          ]
        }
      ]
    },
    {
      "cell_type": "code",
      "source": [
        "a = 5\n",
        "b = 2\n",
        "t = b\n",
        "b=a\n",
        "a=t\n",
        "\n",
        "print(a,b)"
      ],
      "metadata": {
        "colab": {
          "base_uri": "https://localhost:8080/"
        },
        "id": "Bn9H1M8iA2nf",
        "outputId": "75c24198-13e7-4c4d-d298-68cdd78e209f"
      },
      "execution_count": null,
      "outputs": [
        {
          "output_type": "stream",
          "name": "stdout",
          "text": [
            "2 5\n"
          ]
        }
      ]
    },
    {
      "cell_type": "code",
      "source": [
        "a=5\n",
        "b=10\n",
        "\n",
        "\n",
        "\n",
        "\n",
        "print(a,b)"
      ],
      "metadata": {
        "colab": {
          "base_uri": "https://localhost:8080/"
        },
        "id": "LHnaCaKgDW6z",
        "outputId": "dfdc85a2-f5c8-45bb-a549-0681aef99774"
      },
      "execution_count": null,
      "outputs": [
        {
          "output_type": "stream",
          "name": "stdout",
          "text": [
            "5 5\n"
          ]
        }
      ]
    },
    {
      "cell_type": "code",
      "source": [
        "str='hello'"
      ],
      "metadata": {
        "id": "CTXdaWgVc2Ep"
      },
      "execution_count": null,
      "outputs": []
    },
    {
      "cell_type": "code",
      "source": [
        "print(str)"
      ],
      "metadata": {
        "colab": {
          "base_uri": "https://localhost:8080/"
        },
        "id": "TKJfR3RsdAYh",
        "outputId": "1cd04fd1-0607-4044-8a28-75df6750bd69"
      },
      "execution_count": null,
      "outputs": [
        {
          "output_type": "stream",
          "name": "stdout",
          "text": [
            "hello\n"
          ]
        }
      ]
    },
    {
      "cell_type": "code",
      "source": [
        "#우리반 학생을 저장 ( 1~ 10번)\n",
        "#방법1\n",
        "s1 = '김개똥'\n",
        "s2 = '홍길동'\n",
        "#만약 학생이 100명이라면 ? => 100의 변수가 필요\n",
        "#하나의 묶음으로 보관 =>  List (다른 언어서는 배열 array)\n",
        "\n",
        "student = ['김개똥', '홍길동', 100]  #리스트에 다른 형태의 자료형도 보관가능\n",
        "print(student[2]) #리스트 번지는 0번지 부터 시작\n",
        "\n",
        "student.append('김지민') #append 새로운 항목을 뒤에 추가할 때\n",
        "print(student[3])\n",
        "#리스트에서 쓸수 있는 기능들은 어떤게 있을까??\n",
        "\n",
        "#리스트에서 특정항목 삭제\n",
        "student.pop(1)  #1번째 항목이 삭제\n",
        "\n",
        "#다시 출력\n",
        "print(student)"
      ],
      "metadata": {
        "colab": {
          "base_uri": "https://localhost:8080/"
        },
        "id": "FEEkCbp2d0Gv",
        "outputId": "bbd33d8d-f3f0-41e5-be8e-55b924c82947"
      },
      "execution_count": null,
      "outputs": [
        {
          "output_type": "stream",
          "name": "stdout",
          "text": [
            "100\n",
            "김지민\n",
            "['김개똥', 100, '김지민']\n"
          ]
        }
      ]
    },
    {
      "cell_type": "code",
      "source": [
        "#만약 1번의 이름 ,국어 ,영어 정보 성적을 보관\n",
        "#2번의 이름, 국어, 영어, 정보\n",
        "s1 = ['김개똥', 100, 50, 70]\n",
        "s2 = ['홀길동',60, 70, 100]\n",
        "\n",
        "\n",
        "\n",
        "cls = [s1,s2]  #리스트(배열) 안에 리스트를 넣을 수 있음=> 2차원 리스트 (배열)\n",
        "a1= cls[0] #s1 = 김개똥의 배열\n",
        "print(a1[1]) # 김대똥의 국어 접수\n",
        "print(cls[0][1])\n",
        "\n",
        "\n",
        "#배열과 리스트가 같을까? => 배열은 크기가 고정 = 변경불가,리스트는 변함"
      ],
      "metadata": {
        "colab": {
          "base_uri": "https://localhost:8080/"
        },
        "id": "vL5t6cwijDUI",
        "outputId": "7631e92a-70fc-43dd-c3cf-042f271c60da"
      },
      "execution_count": null,
      "outputs": [
        {
          "output_type": "stream",
          "name": "stdout",
          "text": [
            "100\n",
            "100\n"
          ]
        }
      ]
    },
    {
      "cell_type": "code",
      "source": [
        "#여기만 실행하면 안됨..\n",
        "#type(변수) = 변수의 타입(자료의 형태를 출력)\n",
        "\n",
        "print(type(cls)) #cls의 자료형\n",
        "num =3\n",
        "print(type(num))\n",
        "\n"
      ],
      "metadata": {
        "colab": {
          "base_uri": "https://localhost:8080/"
        },
        "id": "qcmnfFlvphlV",
        "outputId": "7d71ab68-935e-41cd-bb7f-85a3ceaf2872"
      },
      "execution_count": null,
      "outputs": [
        {
          "output_type": "stream",
          "name": "stdout",
          "text": [
            "<class 'list'>\n",
            "<class 'int'>\n"
          ]
        }
      ]
    },
    {
      "cell_type": "code",
      "source": [
        "#사용자 입력\n",
        "print('이름을 입력하세요')\n",
        "name = input()#입력하기 기능\n",
        "#또는 name = input('이름을 입력하세요')\n",
        "print('hello',name)\n",
        "#print('hello',name)\n",
        "#print('helld'+name)\n",
        "print(f 'hello{name}') # f 로 시작하는 포맷팅을 이용해서 안에 표현할수 있음\n"
      ],
      "metadata": {
        "colab": {
          "base_uri": "https://localhost:8080/"
        },
        "id": "M6jO4mHerM8U",
        "outputId": "7ce2c188-b437-463c-def6-e79bf1e8671c"
      },
      "execution_count": null,
      "outputs": [
        {
          "output_type": "stream",
          "name": "stdout",
          "text": [
            "이름을 입력하세요\n",
            "김지민\n",
            "hello 김지민\n"
          ]
        }
      ]
    },
    {
      "cell_type": "code",
      "source": [
        "#리스트에서 관해서.. 문자열\n",
        "#strihg = 문자열\n",
        "str = 'hello world'\n",
        "print(str[2])   #['h', 'e', 'o'.....] 저장되고 있음\n",
        "print(    len[str]    ) # len() rlsmddms answkdml rlfdlfmf cnffur\n",
        "\n",
        "l ist = [1,2,3,4,5]      # 배열의 길이를 알 수 있을까?\n",
        "print(len(l ist))"
      ],
      "metadata": {
        "colab": {
          "base_uri": "https://localhost:8080/",
          "height": 137
        },
        "id": "p4KcZKR-9bQn",
        "outputId": "677e38bf-c73b-44e1-fce5-5f802e09c0be"
      },
      "execution_count": null,
      "outputs": [
        {
          "output_type": "error",
          "ename": "SyntaxError",
          "evalue": "ignored",
          "traceback": [
            "\u001b[0;36m  File \u001b[0;32m\"<ipython-input-12-ffa347f5a236>\"\u001b[0;36m, line \u001b[0;32m7\u001b[0m\n\u001b[0;31m    l ist = [1,2,3,4,5]      # 배열의 길이를 알 수 있을까?\u001b[0m\n\u001b[0m      ^\u001b[0m\n\u001b[0;31mSyntaxError\u001b[0m\u001b[0;31m:\u001b[0m invalid syntax\n"
          ]
        }
      ]
    },
    {
      "cell_type": "code",
      "source": [
        "#반복문 - 반복된 작업을 쉽게\n",
        "#상황- 리스트 = [0,0,0,0,0,0,0,0......]=>100칸 생성\n",
        "#l sit = [0,0.....0]  또는\n",
        "#l ist = [] l ist \n",
        "\n",
        "#반복 명령어 for, while\n",
        "#for = 제한된 횟수 만큼 반복\n",
        "#k = 반복하면서 사용할 변수\n",
        "#range(범위)  0~범위 까지\n",
        "for k in range(10): # k는 0~9까지 변신\n",
        " # : 표시는 중괄호 시작이랑 같은 뜻\n",
        " # 안에 들여쓰기를 했음. \n",
        "  print(k)\n",
        "  print('반복중')\n",
        "  "
      ],
      "metadata": {
        "colab": {
          "base_uri": "https://localhost:8080/"
        },
        "id": "o4P2t-vp--Qt",
        "outputId": "294a2728-e902-4e35-d6f5-5129b6df8cc6"
      },
      "execution_count": null,
      "outputs": [
        {
          "output_type": "stream",
          "name": "stdout",
          "text": [
            "0\n",
            "반복중\n",
            "1\n",
            "반복중\n",
            "2\n",
            "반복중\n",
            "3\n",
            "반복중\n",
            "4\n",
            "반복중\n",
            "5\n",
            "반복중\n",
            "6\n",
            "반복중\n",
            "7\n",
            "반복중\n",
            "8\n",
            "반복중\n",
            "9\n",
            "반복중\n"
          ]
        }
      ]
    },
    {
      "cell_type": "code",
      "source": [
        "# 100개의 리스트 배열을 만들고 [0,2,4,6.....] 순서로 값을 초기화\n",
        "# 배열의 항목을 추가하는 명력어 append\n",
        "\n",
        "for i in range(100):\n",
        "  l ist.append(i*2)\n",
        "  \n",
        "  \n",
        "  print(l ist)"
      ],
      "metadata": {
        "colab": {
          "base_uri": "https://localhost:8080/",
          "height": 137
        },
        "id": "Xkbkv8IEBak6",
        "outputId": "f50f6617-bcae-4291-8a9e-4d4c59515727"
      },
      "execution_count": 43,
      "outputs": [
        {
          "output_type": "error",
          "ename": "SyntaxError",
          "evalue": "ignored",
          "traceback": [
            "\u001b[0;36m  File \u001b[0;32m\"<ipython-input-43-223612ef0f22>\"\u001b[0;36m, line \u001b[0;32m5\u001b[0m\n\u001b[0;31m    l ist.append(i*2)\u001b[0m\n\u001b[0m      ^\u001b[0m\n\u001b[0;31mSyntaxError\u001b[0m\u001b[0;31m:\u001b[0m invalid syntax\n"
          ]
        }
      ]
    },
    {
      "cell_type": "code",
      "source": [
        "for i in range(1,100,):\n",
        "  for j in range(2):\n",
        "    \n",
        "    print(i*j)"
      ],
      "metadata": {
        "colab": {
          "base_uri": "https://localhost:8080/"
        },
        "id": "y59QlelsE2y_",
        "outputId": "9f5063c3-1e56-46a5-d082-db084a65ca3e"
      },
      "execution_count": 2,
      "outputs": [
        {
          "output_type": "stream",
          "name": "stdout",
          "text": [
            "0\n",
            "1\n",
            "0\n",
            "2\n",
            "0\n",
            "3\n",
            "0\n",
            "4\n",
            "0\n",
            "5\n",
            "0\n",
            "6\n",
            "0\n",
            "7\n",
            "0\n",
            "8\n",
            "0\n",
            "9\n",
            "0\n",
            "10\n",
            "0\n",
            "11\n",
            "0\n",
            "12\n",
            "0\n",
            "13\n",
            "0\n",
            "14\n",
            "0\n",
            "15\n",
            "0\n",
            "16\n",
            "0\n",
            "17\n",
            "0\n",
            "18\n",
            "0\n",
            "19\n",
            "0\n",
            "20\n",
            "0\n",
            "21\n",
            "0\n",
            "22\n",
            "0\n",
            "23\n",
            "0\n",
            "24\n",
            "0\n",
            "25\n",
            "0\n",
            "26\n",
            "0\n",
            "27\n",
            "0\n",
            "28\n",
            "0\n",
            "29\n",
            "0\n",
            "30\n",
            "0\n",
            "31\n",
            "0\n",
            "32\n",
            "0\n",
            "33\n",
            "0\n",
            "34\n",
            "0\n",
            "35\n",
            "0\n",
            "36\n",
            "0\n",
            "37\n",
            "0\n",
            "38\n",
            "0\n",
            "39\n",
            "0\n",
            "40\n",
            "0\n",
            "41\n",
            "0\n",
            "42\n",
            "0\n",
            "43\n",
            "0\n",
            "44\n",
            "0\n",
            "45\n",
            "0\n",
            "46\n",
            "0\n",
            "47\n",
            "0\n",
            "48\n",
            "0\n",
            "49\n",
            "0\n",
            "50\n",
            "0\n",
            "51\n",
            "0\n",
            "52\n",
            "0\n",
            "53\n",
            "0\n",
            "54\n",
            "0\n",
            "55\n",
            "0\n",
            "56\n",
            "0\n",
            "57\n",
            "0\n",
            "58\n",
            "0\n",
            "59\n",
            "0\n",
            "60\n",
            "0\n",
            "61\n",
            "0\n",
            "62\n",
            "0\n",
            "63\n",
            "0\n",
            "64\n",
            "0\n",
            "65\n",
            "0\n",
            "66\n",
            "0\n",
            "67\n",
            "0\n",
            "68\n",
            "0\n",
            "69\n",
            "0\n",
            "70\n",
            "0\n",
            "71\n",
            "0\n",
            "72\n",
            "0\n",
            "73\n",
            "0\n",
            "74\n",
            "0\n",
            "75\n",
            "0\n",
            "76\n",
            "0\n",
            "77\n",
            "0\n",
            "78\n",
            "0\n",
            "79\n",
            "0\n",
            "80\n",
            "0\n",
            "81\n",
            "0\n",
            "82\n",
            "0\n",
            "83\n",
            "0\n",
            "84\n",
            "0\n",
            "85\n",
            "0\n",
            "86\n",
            "0\n",
            "87\n",
            "0\n",
            "88\n",
            "0\n",
            "89\n",
            "0\n",
            "90\n",
            "0\n",
            "91\n",
            "0\n",
            "92\n",
            "0\n",
            "93\n",
            "0\n",
            "94\n",
            "0\n",
            "95\n",
            "0\n",
            "96\n",
            "0\n",
            "97\n",
            "0\n",
            "98\n",
            "0\n",
            "99\n"
          ]
        }
      ]
    },
    {
      "cell_type": "code",
      "source": [
        "#for는 반복문 => 똑같은 작업들 할 수 있도록 횟수를 지절하는 반복문\n",
        "#입력하는 단의 구구단 출력\n",
        "#예)   3입력 =>3*1=3 .......3*9=27\n",
        "n = input('숫자를 입력하세요')\n",
        "print(n*3)#input으로 받은 값은 문자로 처리됨\n",
        "k = int(n)  #int 타입 = 정수값으로 변경\n",
        "print(k*3)\n",
        "## ==>>>>>   n = int (input('숫자입력'))\n"
      ],
      "metadata": {
        "colab": {
          "base_uri": "https://localhost:8080/"
        },
        "id": "accwzSLKgTMs",
        "outputId": "02542817-5efa-4797-fe47-665bf8da9aea"
      },
      "execution_count": 8,
      "outputs": [
        {
          "output_type": "stream",
          "name": "stdout",
          "text": [
            "숫자를 입력하세요3\n",
            "333\n",
            "9\n"
          ]
        }
      ]
    },
    {
      "cell_type": "code",
      "source": [
        "n =  int( input('숫자입력')  )\n",
        "for i in range(1, 10):   # 1~10전까지 = 1~9    #콜론: 붙이도록\n",
        "    #반복할 작업은 탭만큼 들여써서 작성\n",
        "    print(f'{n} * {i} = {n*i}')"
      ],
      "metadata": {
        "colab": {
          "base_uri": "https://localhost:8080/"
        },
        "id": "xg-Ub_QOiByC",
        "outputId": "2b8e019b-c119-43d2-d266-b6be8f65ae0e"
      },
      "execution_count": 63,
      "outputs": [
        {
          "output_type": "stream",
          "name": "stdout",
          "text": [
            "숫자입력5\n",
            "5 * 1 = 5\n",
            "5 * 2 = 10\n",
            "5 * 3 = 15\n",
            "5 * 4 = 20\n",
            "5 * 5 = 25\n",
            "5 * 6 = 30\n",
            "5 * 7 = 35\n",
            "5 * 8 = 40\n",
            "5 * 9 = 45\n"
          ]
        }
      ]
    },
    {
      "cell_type": "code",
      "source": [
        "n = int('입력해주세요')\n",
        "\n",
        "\n",
        "print(f{n})"
      ],
      "metadata": {
        "colab": {
          "base_uri": "https://localhost:8080/",
          "height": 137
        },
        "id": "VKMqd5ZVmDF9",
        "outputId": "29eb46d1-95a2-4737-961b-49e8582e2faf"
      },
      "execution_count": 53,
      "outputs": [
        {
          "output_type": "error",
          "ename": "SyntaxError",
          "evalue": "ignored",
          "traceback": [
            "\u001b[0;36m  File \u001b[0;32m\"<ipython-input-53-b0d09d2bf508>\"\u001b[0;36m, line \u001b[0;32m4\u001b[0m\n\u001b[0;31m    print(f{})\u001b[0m\n\u001b[0m           ^\u001b[0m\n\u001b[0;31mSyntaxError\u001b[0m\u001b[0;31m:\u001b[0m invalid syntax\n"
          ]
        }
      ]
    }
  ]
}