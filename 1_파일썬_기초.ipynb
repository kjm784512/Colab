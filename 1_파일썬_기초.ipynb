{
  "nbformat": 4,
  "nbformat_minor": 0,
  "metadata": {
    "colab": {
      "provenance": [],
      "authorship_tag": "ABX9TyPD90pqwfGXTcTkXO6jRQOk",
      "include_colab_link": true
    },
    "kernelspec": {
      "name": "python3",
      "display_name": "Python 3"
    },
    "language_info": {
      "name": "python"
    }
  },
  "cells": [
    {
      "cell_type": "markdown",
      "metadata": {
        "id": "view-in-github",
        "colab_type": "text"
      },
      "source": [
        "<a href=\"https://colab.research.google.com/github/kjm784512/Colab/blob/main/1_%ED%8C%8C%EC%9D%BC%EC%8D%AC_%EA%B8%B0%EC%B4%88.ipynb\" target=\"_parent\"><img src=\"https://colab.research.google.com/assets/colab-badge.svg\" alt=\"Open In Colab\"/></a>"
      ]
    },
    {
      "cell_type": "code",
      "execution_count": null,
      "metadata": {
        "colab": {
          "base_uri": "https://localhost:8080/"
        },
        "id": "-c8KgAKNr93v",
        "outputId": "f19353b4-43dc-48d2-ad3a-62e0f5095ca8"
      },
      "outputs": [
        {
          "output_type": "stream",
          "name": "stdout",
          "text": [
            "my first python code\n"
          ]
        }
      ],
      "source": [
        "print('my first python code')"
      ]
    },
    {
      "cell_type": "markdown",
      "source": [
        "파이썬은 띄어쓰기 조심! print문장은 회면에 출력해주는 명령어"
      ],
      "metadata": {
        "id": "SJVcPX0yt9w4"
      }
    },
    {
      "cell_type": "code",
      "source": [
        "name = '김지민'\n",
        "age = '17'\n",
        "age=age\n",
        "\n",
        "print('안녕하세요 난 ' +name + age)"
      ],
      "metadata": {
        "colab": {
          "base_uri": "https://localhost:8080/"
        },
        "id": "di1biv0btZdK",
        "outputId": "d74a3b12-6998-49a3-9467-446ee2802245"
      },
      "execution_count": null,
      "outputs": [
        {
          "output_type": "stream",
          "name": "stdout",
          "text": [
            "안녕하세요 난 김지민17\n"
          ]
        }
      ]
    },
    {
      "cell_type": "code",
      "source": [
        "a=5\n",
        "b=3\n",
        "print(a%b)"
      ],
      "metadata": {
        "colab": {
          "base_uri": "https://localhost:8080/"
        },
        "id": "n7rbEILv_4-X",
        "outputId": "66b49282-60c5-4766-d0fc-c8ca33ebbf6d"
      },
      "execution_count": null,
      "outputs": [
        {
          "output_type": "stream",
          "name": "stdout",
          "text": [
            "2\n"
          ]
        }
      ]
    },
    {
      "cell_type": "code",
      "source": [
        "a=5\n",
        "b=3\n",
        "print(a==b)"
      ],
      "metadata": {
        "colab": {
          "base_uri": "https://localhost:8080/"
        },
        "id": "cB3KIWbgAjEt",
        "outputId": "7355e206-a677-4b75-cd51-d95b1b25813f"
      },
      "execution_count": null,
      "outputs": [
        {
          "output_type": "stream",
          "name": "stdout",
          "text": [
            "False\n"
          ]
        }
      ]
    },
    {
      "cell_type": "code",
      "source": [
        "a = 5\n",
        "b = 2\n",
        "t = b\n",
        "b=a\n",
        "a=t\n",
        "\n",
        "print(a,b)"
      ],
      "metadata": {
        "colab": {
          "base_uri": "https://localhost:8080/"
        },
        "id": "Bn9H1M8iA2nf",
        "outputId": "75c24198-13e7-4c4d-d298-68cdd78e209f"
      },
      "execution_count": null,
      "outputs": [
        {
          "output_type": "stream",
          "name": "stdout",
          "text": [
            "2 5\n"
          ]
        }
      ]
    },
    {
      "cell_type": "code",
      "source": [
        "a=5\n",
        "b=10\n",
        "\n",
        "\n",
        "\n",
        "\n",
        "print(a,b)"
      ],
      "metadata": {
        "colab": {
          "base_uri": "https://localhost:8080/"
        },
        "id": "LHnaCaKgDW6z",
        "outputId": "dfdc85a2-f5c8-45bb-a549-0681aef99774"
      },
      "execution_count": null,
      "outputs": [
        {
          "output_type": "stream",
          "name": "stdout",
          "text": [
            "5 5\n"
          ]
        }
      ]
    },
    {
      "cell_type": "code",
      "source": [
        "str='hello'"
      ],
      "metadata": {
        "id": "CTXdaWgVc2Ep"
      },
      "execution_count": null,
      "outputs": []
    },
    {
      "cell_type": "code",
      "source": [
        "print(str)"
      ],
      "metadata": {
        "colab": {
          "base_uri": "https://localhost:8080/"
        },
        "id": "TKJfR3RsdAYh",
        "outputId": "1cd04fd1-0607-4044-8a28-75df6750bd69"
      },
      "execution_count": null,
      "outputs": [
        {
          "output_type": "stream",
          "name": "stdout",
          "text": [
            "hello\n"
          ]
        }
      ]
    },
    {
      "cell_type": "code",
      "source": [
        "#우리반 학생을 저장 ( 1~ 10번)\n",
        "#방법1\n",
        "s1 = '김개똥'\n",
        "s2 = '홍길동'\n",
        "#만약 학생이 100명이라면 ? => 100의 변수가 필요\n",
        "#하나의 묶음으로 보관 =>  List (다른 언어서는 배열 array)\n",
        "\n",
        "student = ['김개똥', '홍길동', 100]  #리스트에 다른 형태의 자료형도 보관가능\n",
        "print(student[2]) #리스트 번지는 0번지 부터 시작\n",
        "\n",
        "student.append('김지민') #append 새로운 항목을 뒤에 추가할 때\n",
        "print(student[3])\n",
        "#리스트에서 쓸수 있는 기능들은 어떤게 있을까??\n",
        "\n",
        "#리스트에서 특정항목 삭제\n",
        "student.pop(1)  #1번째 항목이 삭제\n",
        "\n",
        "#다시 출력\n",
        "print(student)"
      ],
      "metadata": {
        "colab": {
          "base_uri": "https://localhost:8080/"
        },
        "id": "FEEkCbp2d0Gv",
        "outputId": "bbd33d8d-f3f0-41e5-be8e-55b924c82947"
      },
      "execution_count": null,
      "outputs": [
        {
          "output_type": "stream",
          "name": "stdout",
          "text": [
            "100\n",
            "김지민\n",
            "['김개똥', 100, '김지민']\n"
          ]
        }
      ]
    },
    {
      "cell_type": "code",
      "source": [
        "#만약 1번의 이름 ,국어 ,영어 정보 성적을 보관\n",
        "#2번의 이름, 국어, 영어, 정보\n",
        "s1 = ['김개똥', 100, 50, 70]\n",
        "s2 = ['홀길동',60, 70, 100]\n",
        "\n",
        "\n",
        "\n",
        "cls = [s1,s2]  #리스트(배열) 안에 리스트를 넣을 수 있음=> 2차원 리스트 (배열)\n",
        "a1= cls[0] #s1 = 김개똥의 배열\n",
        "print(a1[1]) # 김대똥의 국어 접수\n",
        "print(cls[0][1])\n",
        "\n",
        "\n",
        "#배열과 리스트가 같을까? => 배열은 크기가 고정 = 변경불가,리스트는 변함"
      ],
      "metadata": {
        "colab": {
          "base_uri": "https://localhost:8080/"
        },
        "id": "vL5t6cwijDUI",
        "outputId": "7631e92a-70fc-43dd-c3cf-042f271c60da"
      },
      "execution_count": null,
      "outputs": [
        {
          "output_type": "stream",
          "name": "stdout",
          "text": [
            "100\n",
            "100\n"
          ]
        }
      ]
    },
    {
      "cell_type": "code",
      "source": [
        "#여기만 실행하면 안됨..\n",
        "#type(변수) = 변수의 타입(자료의 형태를 출력)\n",
        "\n",
        "print(type(cls)) #cls의 자료형\n",
        "num =3\n",
        "print(type(num))\n",
        "\n"
      ],
      "metadata": {
        "colab": {
          "base_uri": "https://localhost:8080/"
        },
        "id": "qcmnfFlvphlV",
        "outputId": "7d71ab68-935e-41cd-bb7f-85a3ceaf2872"
      },
      "execution_count": null,
      "outputs": [
        {
          "output_type": "stream",
          "name": "stdout",
          "text": [
            "<class 'list'>\n",
            "<class 'int'>\n"
          ]
        }
      ]
    },
    {
      "cell_type": "code",
      "source": [
        "#사용자 입력\n",
        "print('이름을 입력하세요')\n",
        "name = input()#입력하기 기능\n",
        "#또는 name = input('이름을 입력하세요')\n",
        "print('hello',name)\n",
        "#print('hello',name)\n",
        "#print('helld'+name)\n",
        "print(f 'hello{name}') # f 로 시작하는 포맷팅을 이용해서 안에 표현할수 있음\n"
      ],
      "metadata": {
        "colab": {
          "base_uri": "https://localhost:8080/"
        },
        "id": "M6jO4mHerM8U",
        "outputId": "7ce2c188-b437-463c-def6-e79bf1e8671c"
      },
      "execution_count": null,
      "outputs": [
        {
          "output_type": "stream",
          "name": "stdout",
          "text": [
            "이름을 입력하세요\n",
            "김지민\n",
            "hello 김지민\n"
          ]
        }
      ]
    },
    {
      "cell_type": "code",
      "source": [
        "#리스트에서 관해서.. 문자열\n",
        "#String = 문자열\n",
        "str = 'hello world'\n",
        "print(str[4])  #['h','e','l'..... ] 저장되고 있음\n",
        "print(   len(str)    )  # len()  기능은 문자의 길이를 출력\n",
        "\n",
        "list = [1,2,3,4,5]  #배열의 길이를 알 수 있을까?\n",
        "print(len(list)) "
      ],
      "metadata": {
        "colab": {
          "base_uri": "https://localhost:8080/"
        },
        "id": "p4KcZKR-9bQn",
        "outputId": "4f712f3e-842d-4413-fb84-86f38fc9a579"
      },
      "execution_count": null,
      "outputs": [
        {
          "output_type": "stream",
          "name": "stdout",
          "text": [
            "o\n",
            "11\n",
            "5\n"
          ]
        }
      ]
    },
    {
      "cell_type": "code",
      "source": [
        "#반복문 - 반복된 작업을 쉽게\n",
        "#상황- 리스트 = [0,0,0,0,0,0,0,0......]=>100칸 생성\n",
        "#l sit = [0,0.....0]  또는\n",
        "#l ist = [] l ist \n",
        "\n",
        "#반복 명령어 for, while\n",
        "#for = 제한된 횟수 만큼 반복\n",
        "#k = 반복하면서 사용할 변수\n",
        "#range(범위)  0~범위 까지\n",
        "for k in range(10): # k는 0~9까지 변신\n",
        " # : 표시는 중괄호 시작이랑 같은 뜻\n",
        " # 안에 들여쓰기를 했음. \n",
        "  print(k)\n",
        "  print('반복중')\n",
        "  "
      ],
      "metadata": {
        "colab": {
          "base_uri": "https://localhost:8080/"
        },
        "id": "o4P2t-vp--Qt",
        "outputId": "294a2728-e902-4e35-d6f5-5129b6df8cc6"
      },
      "execution_count": null,
      "outputs": [
        {
          "output_type": "stream",
          "name": "stdout",
          "text": [
            "0\n",
            "반복중\n",
            "1\n",
            "반복중\n",
            "2\n",
            "반복중\n",
            "3\n",
            "반복중\n",
            "4\n",
            "반복중\n",
            "5\n",
            "반복중\n",
            "6\n",
            "반복중\n",
            "7\n",
            "반복중\n",
            "8\n",
            "반복중\n",
            "9\n",
            "반복중\n"
          ]
        }
      ]
    },
    {
      "cell_type": "code",
      "source": [
        "# 100개의 리스트 배열을 만들고 [0,2,4,6.....] 순서로 값을 초기화\n",
        "# 배열의 항목을 추가하는 명력어 append\n",
        "\n",
        "for i in range(100):\n",
        "  l ist.append(i*2)\n",
        "  \n",
        "  \n",
        "  print(l ist)"
      ],
      "metadata": {
        "colab": {
          "base_uri": "https://localhost:8080/",
          "height": 137
        },
        "id": "Xkbkv8IEBak6",
        "outputId": "f50f6617-bcae-4291-8a9e-4d4c59515727"
      },
      "execution_count": null,
      "outputs": [
        {
          "output_type": "error",
          "ename": "SyntaxError",
          "evalue": "ignored",
          "traceback": [
            "\u001b[0;36m  File \u001b[0;32m\"<ipython-input-43-223612ef0f22>\"\u001b[0;36m, line \u001b[0;32m5\u001b[0m\n\u001b[0;31m    l ist.append(i*2)\u001b[0m\n\u001b[0m      ^\u001b[0m\n\u001b[0;31mSyntaxError\u001b[0m\u001b[0;31m:\u001b[0m invalid syntax\n"
          ]
        }
      ]
    },
    {
      "cell_type": "code",
      "source": [
        "#for는 반복문 => 똑같은 작업들 할 수 있도록 횟수를 지절하는 반복문\n",
        "#입력하는 단의 구구단 출력\n",
        "#예)   3입력 =>3*1=3 .......3*9=27\n",
        "n = input('숫자를 입력하세요')\n",
        "print(n*3)#input으로 받은 값은 문자로 처리됨\n",
        "k = int(n)  #int 타입 = 정수값으로 변경\n",
        "print(k*3)\n",
        "## ==>>>>>   n = int (input('숫자입력'))\n"
      ],
      "metadata": {
        "colab": {
          "base_uri": "https://localhost:8080/"
        },
        "id": "accwzSLKgTMs",
        "outputId": "02542817-5efa-4797-fe47-665bf8da9aea"
      },
      "execution_count": null,
      "outputs": [
        {
          "output_type": "stream",
          "name": "stdout",
          "text": [
            "숫자를 입력하세요3\n",
            "333\n",
            "9\n"
          ]
        }
      ]
    },
    {
      "cell_type": "code",
      "source": [
        "n =  int( input('숫자입력')  )\n",
        "for i in range(1, 10):   # 1~10전까지 = 1~9    #콜론: 붙이도록\n",
        "    #반복할 작업은 탭만큼 들여써서 작성\n",
        "    print(f'{n} * {i} = {n*i}')"
      ],
      "metadata": {
        "colab": {
          "base_uri": "https://localhost:8080/"
        },
        "id": "xg-Ub_QOiByC",
        "outputId": "2b8e019b-c119-43d2-d266-b6be8f65ae0e"
      },
      "execution_count": null,
      "outputs": [
        {
          "output_type": "stream",
          "name": "stdout",
          "text": [
            "숫자입력5\n",
            "5 * 1 = 5\n",
            "5 * 2 = 10\n",
            "5 * 3 = 15\n",
            "5 * 4 = 20\n",
            "5 * 5 = 25\n",
            "5 * 6 = 30\n",
            "5 * 7 = 35\n",
            "5 * 8 = 40\n",
            "5 * 9 = 45\n"
          ]
        }
      ]
    },
    {
      "cell_type": "code",
      "source": [
        "# 0. 사용자 입력을 숫자로 받기\n",
        "# 1. 1부터 입력수 까지 출력 =>   for문 필요\n",
        "# 2. 3,6,9 인지 판단 하여 X로 변환\n",
        "\n",
        "k = int(   input('숫자 입력')         )\n",
        "for i in range(1, k+1):\n",
        "  #i 는   1부터 k까지 나옴...\n",
        "  \n",
        "  #if 조건 :   => 참인지 검사\n",
        "  # 참이라면 수행할 내용\n",
        "  #if i 가 3이랑 같은가  \n",
        "  if i == 3 :  #등호를 하나만 쓰면,   <-  복사,      == 비교하는것\n",
        "    #들여쓰기 조심\n",
        "    print('X')\n",
        "  else:  #그 밖에  if와 같이 사용됨. if는 혼자 쓸수 있지만, else 혼자 사용 불가\n",
        "    #들여쓰기 조심\n",
        "    if i == 6 :\n",
        "      print('X')\n",
        "    else:\n",
        "      if i == 9:\n",
        "        print('X')\n",
        "      else:\n",
        "        print(i)"
      ],
      "metadata": {
        "colab": {
          "base_uri": "https://localhost:8080/"
        },
        "id": "j9W-mJ0ktCv-",
        "outputId": "cced261c-bf32-4060-9f9f-d62701797044"
      },
      "execution_count": null,
      "outputs": [
        {
          "output_type": "stream",
          "name": "stdout",
          "text": [
            "숫자 입력10\n",
            "1\n",
            "2\n",
            "X\n",
            "4\n",
            "5\n",
            "X\n",
            "7\n",
            "8\n",
            "X\n",
            "10\n"
          ]
        }
      ]
    },
    {
      "cell_type": "code",
      "source": [
        "#나머지 연산자 알기\n",
        "n = int(input('숫자'))\n",
        "\n",
        "for i in range(1,n+1):\n",
        "  #만약 3으로 나누어 떨어지는가 == 나머지가 0인가\n",
        "  #    % = 나머지 연산자 =>      10%3=1\n",
        "  if i % 3  == 0:   # 3,6,9\n",
        "   print('x')\n",
        "  else:\n",
        "    print(i)"
      ],
      "metadata": {
        "colab": {
          "base_uri": "https://localhost:8080/"
        },
        "id": "QeDET0-OyAVx",
        "outputId": "0d1c9e14-03e5-4eff-9f0d-928e8322c61a"
      },
      "execution_count": null,
      "outputs": [
        {
          "output_type": "stream",
          "name": "stdout",
          "text": [
            "숫자10\n",
            "1\n",
            "2\n",
            "x\n",
            "4\n",
            "5\n",
            "x\n",
            "7\n",
            "8\n",
            "x\n",
            "10\n"
          ]
        }
      ]
    },
    {
      "cell_type": "code",
      "source": [
        "# OR연산자와 , AND연산자 => OR연잔사\n",
        "n = int(input('숫자'))\n",
        "\n",
        "for i in range(1,n+1):\n",
        "  if i == 3 or i == 6 or i == 9 :\n",
        "   print('x',end=' ')\n",
        "  else:\n",
        "    print(i, end=' ')"
      ],
      "metadata": {
        "colab": {
          "base_uri": "https://localhost:8080/"
        },
        "id": "gXPVccQczDBw",
        "outputId": "4bca23a5-b0aa-40a2-e4c8-120a1cbbe52f"
      },
      "execution_count": null,
      "outputs": [
        {
          "output_type": "stream",
          "name": "stdout",
          "text": [
            "숫자10\n",
            "1 2 x 4 5 x 7 8 x 10 "
          ]
        }
      ]
    },
    {
      "cell_type": "code",
      "source": [
        "# IF 문 복슴 for 문과 연계\n",
        "# if = 조건 검사 = 만약 조건이 참이면 수행할 내용 작성\n",
        "\n",
        "a= 5\n",
        "#a가 5보다 크다면 \"큰수\" 출력\n",
        "if a > 15 : \n",
        "  print('큰수')\n",
        "  print('입니다.')\n",
        "\n",
        "#클론 표시의 주의-\n",
        "\n",
        "\n",
        "#콜론 다음에는 현재보다 들여쓰기 (탭)\n",
        "\n",
        "\n",
        "if a > 5:\n",
        "  \n",
        "  \n",
        "else:  # else = '그 밖에'  참이 아닌 경우는 전부 이쪽으로 오게됨.\n"
      ],
      "metadata": {
        "colab": {
          "base_uri": "https://localhost:8080/",
          "height": 137
        },
        "id": "NtBxvIV7EEW5",
        "outputId": "d7ae57cc-9ea4-456d-c5f5-5de65baf60a6"
      },
      "execution_count": null,
      "outputs": [
        {
          "output_type": "error",
          "ename": "IndentationError",
          "evalue": "ignored",
          "traceback": [
            "\u001b[0;36m  File \u001b[0;32m\"<ipython-input-6-67bbd1fef9a0>\"\u001b[0;36m, line \u001b[0;32m18\u001b[0m\n\u001b[0;31m    else:    # else = '그 밖에'  참이 아닌 경우는 전부 이쪽으로 오게됨.\u001b[0m\n\u001b[0m                                                    ^\u001b[0m\n\u001b[0;31mIndentationError\u001b[0m\u001b[0;31m:\u001b[0m expected an indented block\n"
          ]
        }
      ]
    },
    {
      "cell_type": "code",
      "source": [
        "#내가 생각한 숫자 맞추기\n",
        "#10번의 기회동안 숫자를 맞춤\n",
        "#10번의 기회=> 10번동안 입력을 받아야겠음\n",
        "#10번동안 => 10번 반복 => for문 필요\n",
        "#입력받음 => input() 필요\n",
        "#내가 입력한 숫자가 맞는지 검사(만약 일치하니???) => if문 필요\n",
        "#10번의 반복할 동안 검사를 매번 수행 =. for문 안에서 입력도 받고, 검사도 하고\n",
        "\n",
        "ans = 15 # 정답\n",
        "#10번 반복\n",
        "#파이썬 랜덤값1~10까지\n",
        "\n",
        "for i in range(10):\n",
        "  num = int(input('정답은?'))   #입력 문자를 숫자로 변환\n",
        "\n",
        "  #ans랑 num이랑 같은가\n",
        "  if ans == num :\n",
        "    print('정답!')\n",
        "  #빠져나가기 => 검색, 파이썬에서 반복문 빠져나가기\n",
        "    break\n",
        "    #틀린 숫자만 오는 경우\n",
        "    #또 검사\n",
        "    if ans > num :\n",
        "      print('up')\n",
        "    else:\n",
        "      print('Down')"
      ],
      "metadata": {
        "colab": {
          "base_uri": "https://localhost:8080/"
        },
        "id": "RwDG5AKxJc4F",
        "outputId": "75499ffd-cd30-44fd-8807-7ce5b203b37e"
      },
      "execution_count": null,
      "outputs": [
        {
          "output_type": "stream",
          "name": "stdout",
          "text": [
            "정답은?15\n",
            "정답!\n"
          ]
        }
      ]
    },
    {
      "cell_type": "code",
      "source": [
        "#숫자를 입력박기 기능 => n이라고 하자\n",
        "#1부터 n까지 반복 => for  ~~~~ : \n",
        "#반복하면서 나오는 숫자가 짝수 인지 검사   %2 == 0 ???\n",
        "#합 구라기 => 합을 보관하는 변수 sum을 만들자\n",
        "#sum변수를 누적해서 저장하자\n",
        "\n",
        "\n",
        "n = int(input('숫자입력'))\n",
        "sum = 0\n",
        "for i in range(1,n+1): \n",
        "  if i %2 == 0:\n",
        "    sum = sum+i\n",
        "\n",
        "print(sum)"
      ],
      "metadata": {
        "colab": {
          "base_uri": "https://localhost:8080/"
        },
        "id": "RwH6ZtiIi9bX",
        "outputId": "b611efd8-f25f-4caf-8292-26eeb86f776d"
      },
      "execution_count": null,
      "outputs": [
        {
          "output_type": "stream",
          "name": "stdout",
          "text": [
            "숫자입력100\n",
            "2550\n"
          ]
        }
      ]
    },
    {
      "cell_type": "code",
      "source": [
        "#가위1 바위2 보3\n",
        "me = k = int(input('뭐 낼래? 가위1 바위2 보3'))\n",
        "com = 1 # 가위를 냈다고 하자 ..\n",
        "\n",
        "#나의 컴퓨터의 비교를 해서 승,패,무승부 출력!\n",
        "if me == com:\n",
        "  print('무승부')\n",
        "\n",
        "if (me == 1 and com==3) or (me == 2 and com == 1 ) or (me == 3 and com == 2 ):\n",
        "  print('이겼다')\n",
        "else:\n",
        "  print('졌다')"
      ],
      "metadata": {
        "id": "Gp9cJ0mUqSfD",
        "colab": {
          "base_uri": "https://localhost:8080/"
        },
        "outputId": "8d39f8e8-3864-4e69-ece2-046845a2f8c3"
      },
      "execution_count": 7,
      "outputs": [
        {
          "output_type": "stream",
          "name": "stdout",
          "text": [
            "뭐 낼래? 가위1 바위2 보32\n",
            "이겼다\n"
          ]
        }
      ]
    }
  ]
}